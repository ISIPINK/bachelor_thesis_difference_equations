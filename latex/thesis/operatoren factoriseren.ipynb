{
 "cells": [
  {
   "cell_type": "code",
   "execution_count": 1,
   "metadata": {},
   "outputs": [],
   "source": [
    "import sympy as sp\n",
    "X,Y,C = sp.symbols(\"X Y C\")"
   ]
  },
  {
   "cell_type": "code",
   "execution_count": 2,
   "metadata": {},
   "outputs": [],
   "source": [
    "def g(a):\n",
    "    return 42 +a**(-1)"
   ]
  },
  {
   "cell_type": "code",
   "execution_count": 3,
   "metadata": {},
   "outputs": [
    {
     "name": "stdout",
     "output_type": "stream",
     "text": [
      "X\n",
      "X\n",
      "42 + \\frac{1}{X}\n",
      "\\frac{1765 X + 42}{42 X + 1}\n",
      "\\frac{74172 X + 1765}{1765 X + 42}\n",
      "\\frac{3116989 X + 74172}{74172 X + 1765}\n",
      "\\frac{130987710 X + 3116989}{3116989 X + 74172}\n",
      "\\frac{5504600809 X + 130987710}{130987710 X + 3116989}\n",
      "\\frac{231324221688 X + 5504600809}{5504600809 X + 130987710}\n",
      "\\frac{9721121911705 X + 231324221688}{231324221688 X + 5504600809}\n"
     ]
    }
   ],
   "source": [
    "def u(k):\n",
    "    if k == 0:\n",
    "        return X\n",
    "    \n",
    "    ni = X\n",
    "\n",
    "    for l in range(k-1):\n",
    "        ni = g(ni)\n",
    "    return ni\n",
    "\n",
    "pop = [sp.simplify(u(i)) for i in range(10)]\n",
    "\n",
    "for e in pop:\n",
    "   print(sp.latex(e))\n",
    "\n",
    "    "
   ]
  },
  {
   "cell_type": "markdown",
   "metadata": {},
   "source": [
    "Volgende functie is gebaseerd op welke differentie vergelijking dat opgelost zouden moet worden om $E^3+E^2+E+1$\n",
    "te proberen factoriseren."
   ]
  },
  {
   "cell_type": "code",
   "execution_count": 4,
   "metadata": {},
   "outputs": [],
   "source": [
    "def f(a,b):\n",
    "    return 1-a**(-1)*(1-b**(-1))\n"
   ]
  },
  {
   "cell_type": "code",
   "execution_count": 11,
   "metadata": {},
   "outputs": [
    {
     "name": "stdout",
     "output_type": "stream",
     "text": [
      "X\n",
      "Y\n",
      "\\frac{X Y - X + 1}{X Y}\n",
      "\\frac{1}{X Y - X + 1}\n",
      "X\n",
      "Y\n",
      "\\frac{X Y - X + 1}{X Y}\n"
     ]
    },
    {
     "data": {
      "text/latex": [
       "$\\displaystyle X$"
      ],
      "text/plain": [
       "X"
      ]
     },
     "metadata": {},
     "output_type": "display_data"
    },
    {
     "data": {
      "text/latex": [
       "$\\displaystyle Y$"
      ],
      "text/plain": [
       "Y"
      ]
     },
     "metadata": {},
     "output_type": "display_data"
    },
    {
     "data": {
      "text/latex": [
       "$\\displaystyle \\frac{X Y - X + 1}{X Y}$"
      ],
      "text/plain": [
       "(X*Y - X + 1)/(X*Y)"
      ]
     },
     "metadata": {},
     "output_type": "display_data"
    },
    {
     "data": {
      "text/latex": [
       "$\\displaystyle \\frac{1}{X Y - X + 1}$"
      ],
      "text/plain": [
       "1/(X*Y - X + 1)"
      ]
     },
     "metadata": {},
     "output_type": "display_data"
    },
    {
     "data": {
      "text/latex": [
       "$\\displaystyle X$"
      ],
      "text/plain": [
       "X"
      ]
     },
     "metadata": {},
     "output_type": "display_data"
    },
    {
     "data": {
      "text/latex": [
       "$\\displaystyle Y$"
      ],
      "text/plain": [
       "Y"
      ]
     },
     "metadata": {},
     "output_type": "display_data"
    },
    {
     "data": {
      "text/latex": [
       "$\\displaystyle \\frac{X Y - X + 1}{X Y}$"
      ],
      "text/plain": [
       "(X*Y - X + 1)/(X*Y)"
      ]
     },
     "metadata": {},
     "output_type": "display_data"
    }
   ],
   "source": [
    "\n",
    "def n(k):\n",
    "    if k == 0:\n",
    "        return X\n",
    "    if k == 1:\n",
    "        return Y\n",
    "    ni = X\n",
    "    ni1 =Y\n",
    "\n",
    "    for l in range(k-1):\n",
    "        ni2 = f(ni1,ni)\n",
    "        ni = ni1\n",
    "        ni1  = ni2\n",
    "    return ni2\n",
    "\n",
    "l = [sp.simplify(n(i)) for i in range(7)]\n",
    "\n",
    "for e in l:\n",
    "   print(sp.latex(e))\n",
    "\n",
    "for e in l:\n",
    "    display(e)"
   ]
  },
  {
   "cell_type": "code",
   "execution_count": 6,
   "metadata": {},
   "outputs": [
    {
     "data": {
      "text/latex": [
       "$\\displaystyle X$"
      ],
      "text/plain": [
       "X"
      ]
     },
     "metadata": {},
     "output_type": "display_data"
    },
    {
     "data": {
      "text/latex": [
       "$\\displaystyle X$"
      ],
      "text/plain": [
       "X"
      ]
     },
     "metadata": {},
     "output_type": "display_data"
    },
    {
     "data": {
      "text/latex": [
       "$\\displaystyle \\frac{1 - X}{X}$"
      ],
      "text/plain": [
       "(1 - X)/X"
      ]
     },
     "metadata": {},
     "output_type": "display_data"
    },
    {
     "data": {
      "text/latex": [
       "$\\displaystyle \\frac{1 - 2 X}{X - 1}$"
      ],
      "text/plain": [
       "(1 - 2*X)/(X - 1)"
      ]
     },
     "metadata": {},
     "output_type": "display_data"
    },
    {
     "data": {
      "text/latex": [
       "$\\displaystyle \\frac{2 - 3 X}{2 X - 1}$"
      ],
      "text/plain": [
       "(2 - 3*X)/(2*X - 1)"
      ]
     },
     "metadata": {},
     "output_type": "display_data"
    },
    {
     "data": {
      "text/latex": [
       "$\\displaystyle \\frac{3 - 5 X}{3 X - 2}$"
      ],
      "text/plain": [
       "(3 - 5*X)/(3*X - 2)"
      ]
     },
     "metadata": {},
     "output_type": "display_data"
    },
    {
     "data": {
      "text/latex": [
       "$\\displaystyle \\frac{8 X - 5}{3 - 5 X}$"
      ],
      "text/plain": [
       "(8*X - 5)/(3 - 5*X)"
      ]
     },
     "metadata": {},
     "output_type": "display_data"
    },
    {
     "data": {
      "text/latex": [
       "$\\displaystyle \\frac{8 - 13 X}{8 X - 5}$"
      ],
      "text/plain": [
       "(8 - 13*X)/(8*X - 5)"
      ]
     },
     "metadata": {},
     "output_type": "display_data"
    },
    {
     "data": {
      "text/latex": [
       "$\\displaystyle \\frac{21 X - 13}{8 - 13 X}$"
      ],
      "text/plain": [
       "(21*X - 13)/(8 - 13*X)"
      ]
     },
     "metadata": {},
     "output_type": "display_data"
    },
    {
     "data": {
      "text/latex": [
       "$\\displaystyle \\frac{21 - 34 X}{21 X - 13}$"
      ],
      "text/plain": [
       "(21 - 34*X)/(21*X - 13)"
      ]
     },
     "metadata": {},
     "output_type": "display_data"
    },
    {
     "data": {
      "text/latex": [
       "$\\displaystyle \\frac{55 X - 34}{21 - 34 X}$"
      ],
      "text/plain": [
       "(55*X - 34)/(21 - 34*X)"
      ]
     },
     "metadata": {},
     "output_type": "display_data"
    },
    {
     "data": {
      "text/latex": [
       "$\\displaystyle \\frac{55 - 89 X}{55 X - 34}$"
      ],
      "text/plain": [
       "(55 - 89*X)/(55*X - 34)"
      ]
     },
     "metadata": {},
     "output_type": "display_data"
    },
    {
     "data": {
      "text/latex": [
       "$\\displaystyle \\frac{144 X - 89}{55 - 89 X}$"
      ],
      "text/plain": [
       "(144*X - 89)/(55 - 89*X)"
      ]
     },
     "metadata": {},
     "output_type": "display_data"
    },
    {
     "data": {
      "text/latex": [
       "$\\displaystyle \\frac{144 - 233 X}{144 X - 89}$"
      ],
      "text/plain": [
       "(144 - 233*X)/(144*X - 89)"
      ]
     },
     "metadata": {},
     "output_type": "display_data"
    },
    {
     "data": {
      "text/latex": [
       "$\\displaystyle \\frac{377 X - 233}{144 - 233 X}$"
      ],
      "text/plain": [
       "(377*X - 233)/(144 - 233*X)"
      ]
     },
     "metadata": {},
     "output_type": "display_data"
    },
    {
     "data": {
      "text/latex": [
       "$\\displaystyle \\frac{377 - 610 X}{377 X - 233}$"
      ],
      "text/plain": [
       "(377 - 610*X)/(377*X - 233)"
      ]
     },
     "metadata": {},
     "output_type": "display_data"
    },
    {
     "data": {
      "text/latex": [
       "$\\displaystyle \\frac{987 X - 610}{377 - 610 X}$"
      ],
      "text/plain": [
       "(987*X - 610)/(377 - 610*X)"
      ]
     },
     "metadata": {},
     "output_type": "display_data"
    },
    {
     "data": {
      "text/latex": [
       "$\\displaystyle \\frac{987 - 1597 X}{987 X - 610}$"
      ],
      "text/plain": [
       "(987 - 1597*X)/(987*X - 610)"
      ]
     },
     "metadata": {},
     "output_type": "display_data"
    },
    {
     "data": {
      "text/latex": [
       "$\\displaystyle \\frac{2584 X - 1597}{987 - 1597 X}$"
      ],
      "text/plain": [
       "(2584*X - 1597)/(987 - 1597*X)"
      ]
     },
     "metadata": {},
     "output_type": "display_data"
    },
    {
     "data": {
      "text/latex": [
       "$\\displaystyle \\frac{2584 - 4181 X}{2584 X - 1597}$"
      ],
      "text/plain": [
       "(2584 - 4181*X)/(2584*X - 1597)"
      ]
     },
     "metadata": {},
     "output_type": "display_data"
    }
   ],
   "source": [
    "def s(a,i):\n",
    "    return (-1)**1 +a**(-1)\n",
    "\n",
    "def u(k):\n",
    "    if k == 0:\n",
    "        return X\n",
    "    \n",
    "    ni = X\n",
    "\n",
    "    for l in range(k-1):\n",
    "        ni = s(ni,l)\n",
    "    return ni\n",
    "\n",
    "pop = [sp.simplify(u(i)) for i in range(20)]\n",
    "\n",
    "for e in pop:\n",
    "   display(e)\n"
   ]
  },
  {
   "cell_type": "code",
   "execution_count": 7,
   "metadata": {},
   "outputs": [
    {
     "name": "stdout",
     "output_type": "stream",
     "text": [
      "7778742049\n"
     ]
    }
   ],
   "source": [
    "# Function for nth fibonacci\n",
    "# number - Dynamic Programming\n",
    "# Taking 1st two fibonacci numbers as 0 and 1\n",
    "FibArray = [0, 1]\n",
    " \n",
    "def fibonacci(n):\n",
    "   \n",
    "    # Check is n is less\n",
    "    # than 0\n",
    "    if n <= 0:\n",
    "        print(\"Incorrect input\")\n",
    "         \n",
    "    # Check is n is less\n",
    "    # than len(FibArray)\n",
    "    elif n <= len(FibArray):\n",
    "        return FibArray[n - 1]\n",
    "    else:\n",
    "        temp_fib = fibonacci(n - 1) + fibonacci(n - 2)\n",
    "        FibArray.append(temp_fib)\n",
    "        return temp_fib\n",
    " \n",
    "# Driver Program\n",
    "print(fibonacci(50))\n",
    " \n",
    "# This code is contributed by Saket Modi"
   ]
  },
  {
   "cell_type": "code",
   "execution_count": 8,
   "metadata": {},
   "outputs": [
    {
     "name": "stdout",
     "output_type": "stream",
     "text": [
      "[0, -1, 0, -2, 1, -4, 4, -9, 12, -22, 33, -56, 88, -145, 232, -378, 609, -988, 1596, -2585, 4180, -6766, 10945, -17712, 28656, -46369, 75024, -121394, 196417, -317812, 514228, -832041, 1346268, -2178310, 3524577, -5702888, 9227464, -14930353, 24157816, -39088170, 63245985, -102334156, 165580140, -267914297, 433494436, -701408734, 1134903169, -1836311904, 2971215072, -4807526977]\n",
      "[0, -1, -1, -3, -2, -6, -2, -11, 1, -21, 12, -44, 44, -101, 131, -247, 362, -626, 970, -1615, 2565, -4201, 6744, -10968, 17688, -28681, 46343, -75051, 121366, -196446, 317782, -514259, 832009, -1346301, 2178276, -3524612, 5702852, -9227501, 14930315, -24157855, 39088130, -63246026, 102334114, -165580183, 267914253, -433494481, 701408688, -1134903216, 1836311856, -2971215121]\n",
      "[0, -1, -2, -5, -7, -13, -15, -26, -25, -46, -34, -78, -34, -135, -4, -251, 111, -515, 455, -1160, 1405, -2796, 3948, -7020, 10668, -18013, 28330, -46721, 74645, -121801, 195981, -318278, 513731, -832570, 1345706, -2178906, 3523946, -5703555, 9226760, -14931095, 24157035, -39088991, 63245123, -102335060, 165579193, -267915288, 433493400, -701409816, 1134902040, -1836313081]\n"
     ]
    }
   ],
   "source": [
    "\n",
    "\n",
    "def fun(list):\n",
    "    temp = []\n",
    "    sum = 0\n",
    "    for i in range(len(list)):\n",
    "        sum = sum + list[i]* (-1)**i\n",
    "        temp.append(sum)\n",
    "    return temp\n",
    "\n",
    "def fun2(list):\n",
    "    temp = []\n",
    "    sum = 0\n",
    "    for i in range(len(list)):\n",
    "        sum = sum + list[i]\n",
    "        temp.append(sum)\n",
    "    return temp\n",
    "\n",
    "print(fun(FibArray))\n",
    "print(fun2(fun(FibArray)))\n",
    "print(fun2(fun2(fun(FibArray))))\n"
   ]
  },
  {
   "cell_type": "code",
   "execution_count": 9,
   "metadata": {},
   "outputs": [
    {
     "ename": "NameError",
     "evalue": "name 'c' is not defined",
     "output_type": "error",
     "traceback": [
      "\u001b[1;31m---------------------------------------------------------------------------\u001b[0m",
      "\u001b[1;31mNameError\u001b[0m                                 Traceback (most recent call last)",
      "\u001b[1;32m<ipython-input-9-97f0a5bc7e96>\u001b[0m in \u001b[0;36m<module>\u001b[1;34m\u001b[0m\n\u001b[0;32m     13\u001b[0m \u001b[1;33m\u001b[0m\u001b[0m\n\u001b[0;32m     14\u001b[0m \u001b[1;33m\u001b[0m\u001b[0m\n\u001b[1;32m---> 15\u001b[1;33m \u001b[0mprint\u001b[0m\u001b[1;33m(\u001b[0m\u001b[0msp\u001b[0m\u001b[1;33m.\u001b[0m\u001b[0mprinting\u001b[0m\u001b[1;33m.\u001b[0m\u001b[0mlatex\u001b[0m\u001b[1;33m(\u001b[0m\u001b[0msp\u001b[0m\u001b[1;33m.\u001b[0m\u001b[0msimplify\u001b[0m\u001b[1;33m(\u001b[0m\u001b[0mu\u001b[0m\u001b[1;33m(\u001b[0m\u001b[1;36m5\u001b[0m\u001b[1;33m)\u001b[0m\u001b[1;33m)\u001b[0m\u001b[1;33m)\u001b[0m\u001b[1;33m)\u001b[0m\u001b[1;33m\u001b[0m\u001b[1;33m\u001b[0m\u001b[0m\n\u001b[0m\u001b[0;32m     16\u001b[0m \u001b[1;31m# pop = [sp.simplify(u(i)) for i in range(20)]\u001b[0m\u001b[1;33m\u001b[0m\u001b[1;33m\u001b[0m\u001b[0m\n\u001b[0;32m     17\u001b[0m \u001b[1;33m\u001b[0m\u001b[0m\n",
      "\u001b[1;32m<ipython-input-9-97f0a5bc7e96>\u001b[0m in \u001b[0;36mu\u001b[1;34m(k)\u001b[0m\n\u001b[0;32m      9\u001b[0m \u001b[1;33m\u001b[0m\u001b[0m\n\u001b[0;32m     10\u001b[0m     \u001b[1;32mfor\u001b[0m \u001b[0ml\u001b[0m \u001b[1;32min\u001b[0m \u001b[0mrange\u001b[0m\u001b[1;33m(\u001b[0m\u001b[0mk\u001b[0m\u001b[1;33m-\u001b[0m\u001b[1;36m1\u001b[0m\u001b[1;33m)\u001b[0m\u001b[1;33m:\u001b[0m\u001b[1;33m\u001b[0m\u001b[1;33m\u001b[0m\u001b[0m\n\u001b[1;32m---> 11\u001b[1;33m         \u001b[0mni\u001b[0m \u001b[1;33m=\u001b[0m \u001b[0ms\u001b[0m\u001b[1;33m(\u001b[0m\u001b[0mni\u001b[0m\u001b[1;33m,\u001b[0m\u001b[0ml\u001b[0m\u001b[1;33m)\u001b[0m\u001b[1;33m\u001b[0m\u001b[1;33m\u001b[0m\u001b[0m\n\u001b[0m\u001b[0;32m     12\u001b[0m     \u001b[1;32mreturn\u001b[0m \u001b[0mni\u001b[0m\u001b[1;33m\u001b[0m\u001b[1;33m\u001b[0m\u001b[0m\n\u001b[0;32m     13\u001b[0m \u001b[1;33m\u001b[0m\u001b[0m\n",
      "\u001b[1;32m<ipython-input-9-97f0a5bc7e96>\u001b[0m in \u001b[0;36ms\u001b[1;34m(a, i)\u001b[0m\n\u001b[0;32m      1\u001b[0m \u001b[1;32mdef\u001b[0m \u001b[0ms\u001b[0m\u001b[1;33m(\u001b[0m\u001b[0ma\u001b[0m\u001b[1;33m,\u001b[0m\u001b[0mi\u001b[0m\u001b[1;33m)\u001b[0m\u001b[1;33m:\u001b[0m\u001b[1;33m\u001b[0m\u001b[1;33m\u001b[0m\u001b[0m\n\u001b[1;32m----> 2\u001b[1;33m     \u001b[1;32mreturn\u001b[0m \u001b[0mc\u001b[0m \u001b[1;33m+\u001b[0m\u001b[0ma\u001b[0m\u001b[1;33m**\u001b[0m\u001b[1;33m(\u001b[0m\u001b[1;33m-\u001b[0m\u001b[1;36m1\u001b[0m\u001b[1;33m)\u001b[0m\u001b[1;33m\u001b[0m\u001b[1;33m\u001b[0m\u001b[0m\n\u001b[0m\u001b[0;32m      3\u001b[0m \u001b[1;33m\u001b[0m\u001b[0m\n\u001b[0;32m      4\u001b[0m \u001b[1;32mdef\u001b[0m \u001b[0mu\u001b[0m\u001b[1;33m(\u001b[0m\u001b[0mk\u001b[0m\u001b[1;33m)\u001b[0m\u001b[1;33m:\u001b[0m\u001b[1;33m\u001b[0m\u001b[1;33m\u001b[0m\u001b[0m\n\u001b[0;32m      5\u001b[0m     \u001b[1;32mif\u001b[0m \u001b[0mk\u001b[0m \u001b[1;33m==\u001b[0m \u001b[1;36m0\u001b[0m\u001b[1;33m:\u001b[0m\u001b[1;33m\u001b[0m\u001b[1;33m\u001b[0m\u001b[0m\n",
      "\u001b[1;31mNameError\u001b[0m: name 'c' is not defined"
     ]
    }
   ],
   "source": [
    "def s(a,i):\n",
    "    return c +a**(-1)\n",
    "\n",
    "def u(k):\n",
    "    if k == 0:\n",
    "        return X\n",
    "    \n",
    "    ni = X\n",
    "\n",
    "    for l in range(k-1):\n",
    "        ni = s(ni,l)\n",
    "    return ni\n",
    "\n",
    "\n",
    "print(sp.printing.latex(sp.simplify(u(5))))\n",
    "# pop = [sp.simplify(u(i)) for i in range(20)]\n",
    "\n",
    "# for e in pop:\n",
    "#    display(e)"
   ]
  }
 ],
 "metadata": {
  "interpreter": {
   "hash": "4119aa07a513690de9e9c4ecef0a449da840581a31fcd396c5604d8b290f1857"
  },
  "kernelspec": {
   "display_name": "Python 3.9.12 64-bit (windows store)",
   "language": "python",
   "name": "python3"
  },
  "language_info": {
   "codemirror_mode": {
    "name": "ipython",
    "version": 3
   },
   "file_extension": ".py",
   "mimetype": "text/x-python",
   "name": "python",
   "nbconvert_exporter": "python",
   "pygments_lexer": "ipython3",
   "version": "3.9.13"
  },
  "orig_nbformat": 4
 },
 "nbformat": 4,
 "nbformat_minor": 2
}
